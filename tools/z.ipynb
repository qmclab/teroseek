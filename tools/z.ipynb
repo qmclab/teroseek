{
 "cells": [
  {
   "cell_type": "code",
   "execution_count": null,
   "metadata": {},
   "outputs": [],
   "source": [
    "import pandas as pd\n",
    "import os, json\n",
    "\n",
    "df_all = pd.read_csv(\".data/TA_KG_compounds_nodes.csv\")\n",
    "df_all[\"type\"] = \"compound\"\n",
    "df_all.to_csv(\".data/TA_KG_compounds_nodes.csv\", index=False)"
   ]
  },
  {
   "cell_type": "code",
   "execution_count": null,
   "metadata": {},
   "outputs": [],
   "source": [
    "df_all = pd.read_csv(\".data/TA_KG_subject_nodes.csv\")\n",
    "df_all[\"type\"] = \"subject\"\n",
    "df_all.to_csv(\".data/TA_KG_subject_nodes.csv\", index=False)"
   ]
  },
  {
   "cell_type": "code",
   "execution_count": null,
   "metadata": {},
   "outputs": [],
   "source": [
    "df_all = pd.read_csv(\".data/TA_KG_source_nodes.csv\")\n",
    "df_all[\"type\"] = \"source\"\n",
    "df_all.to_csv(\".data/TA_KG_source_nodes.csv\", index=False)"
   ]
  },
  {
   "cell_type": "code",
   "execution_count": null,
   "metadata": {},
   "outputs": [],
   "source": [
    "df_all = pd.read_csv(\".data/TA_KG_method_nodes.csv\")\n",
    "df_all[\"type\"] = \"method\"\n",
    "df_all.to_csv(\".data/TA_KG_method_nodes.csv\", index=False)"
   ]
  },
  {
   "cell_type": "code",
   "execution_count": null,
   "metadata": {},
   "outputs": [],
   "source": [
    "import pandas as pd\n",
    "df = pd.read_csv(\".data/available_TA_all.csv\")\n",
    "\n",
    "\n",
    "\n"
   ]
  },
  {
   "cell_type": "code",
   "execution_count": null,
   "metadata": {},
   "outputs": [],
   "source": [
    "df[df[\"doi\"]==\"10.1038/s41929-022-00735-0\"]"
   ]
  },
  {
   "cell_type": "code",
   "execution_count": 11,
   "metadata": {},
   "outputs": [
    {
     "data": {
      "text/plain": [
       "['*Mentha* spp.',\n",
       " 'menthone',\n",
       " 'pulegone',\n",
       " 'carvone',\n",
       " 'ref_4, ref_7',\n",
       " '*Citrus* spp.',\n",
       " 'limonene',\n",
       " 'γ-terpinene',\n",
       " 'ref_17',\n",
       " '*Lavandula*',\n",
       " 'linalool',\n",
       " 'linalyl acetate',\n",
       " 'ref_16, ref_23',\n",
       " '*Juniperus*',\n",
       " 'ref_9']"
      ]
     },
     "execution_count": 11,
     "metadata": {},
     "output_type": "execute_result"
    }
   ],
   "source": [
    "import nltk\n",
    "nltk.data.path.append(\"nltk_data\")\n",
    "from nltk.tokenize import word_tokenize\n",
    "\n",
    "\n",
    "test_txt = \"\"\"\n",
    "  - **薄荷属**（*Mentha* spp.）：富含薄荷酮（menthone）、胡薄荷酮（pulegone）、香芹酮（carvone）（ref_4, ref_7）。\n",
    "\n",
    "  - **柑橘属**（*Citrus* spp.）：柠檬烯（limonene）、γ-松油烯（γ-terpinene）为主要成分（ref_17）。\n",
    "\n",
    "  - **薰衣草**（*Lavandula*）：芳樟醇（linalool）、乙酸芳樟酯（linalyl acetate）（ref_16, ref_23）。\n",
    "\n",
    "  - **刺柏属**（*Juniperus*）：α-蒎烯、β-蒎烯（ref_9）。\n",
    "\"\"\"\n",
    "\n",
    "import re\n",
    "\n",
    "partenr = r\"[（(]([^）()]*)[)）]\"\n",
    "matches = re.findall(partenr, test_txt)\n",
    "\n",
    "matches"
   ]
  }
 ],
 "metadata": {
  "kernelspec": {
   "display_name": "Python 3",
   "language": "python",
   "name": "python3"
  },
  "language_info": {
   "codemirror_mode": {
    "name": "ipython",
    "version": 3
   },
   "file_extension": ".py",
   "mimetype": "text/x-python",
   "name": "python",
   "nbconvert_exporter": "python",
   "pygments_lexer": "ipython3",
   "version": "3.11.11"
  }
 },
 "nbformat": 4,
 "nbformat_minor": 2
}
