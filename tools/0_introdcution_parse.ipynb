{
 "cells": [
  {
   "cell_type": "code",
   "execution_count": null,
   "metadata": {},
   "outputs": [],
   "source": [
    "import pandas as pd\n",
    "import os, json\n",
    "df_all = pd.read_csv(\".data/available_TA_all.csv\")\n",
    "df_all = df_all[df_all[\"relevant\"]==2]\n"
   ]
  },
  {
   "cell_type": "code",
   "execution_count": null,
   "metadata": {},
   "outputs": [],
   "source": [
    "row = df_all.sample(1)\n",
    "print(row[\"title\"].values[0])\n",
    "row"
   ]
  },
  {
   "cell_type": "code",
   "execution_count": null,
   "metadata": {},
   "outputs": [],
   "source": [
    "df_introduction = df_all[~df_all[\"introduction\"].isna()]\n",
    "# introduction parse\n",
    "prompt = \"\"\"\n",
    "Title:{}\n",
    "Abstract:{}\n",
    "=================\n",
    "Introduction:{}\n",
    "First, summarize the theme of the article in one sentence.\n",
    "Based on the background information, extract all terpenoids involved in the article and their biological sources, and summarize the key words. There is no need for abbreviations or acronyms.\n",
    "Then, divide the Introduction part. For each paragraph, summarize in one sentence which methods were used in which tasks and which operations were carried out on which substances. \n",
    "Follow the original text without omission, but text cleaning can be performed.\n",
    "It is recommended to merge related paragraphs. Each output paragraph should not be less than 500 words.\n",
    "EXAMPLE JSON OUTPUT:\n",
    "{{\n",
    "    \"topic\":\"\",\n",
    "    \"source\":[],\n",
    "    \"terpenoid\":[],\n",
    "    \"keywords\":[],\n",
    "    \"0001\": {{\n",
    "        \"summery\":\"\",\n",
    "        \"original_text\":\"\"，\n",
    "    }},\n",
    "    \"0002\": {{\n",
    "        \"summery\":\"\",\n",
    "        \"original+text\":\"\",\n",
    "    }},\n",
    "}}\n",
    "\"\"\"\n",
    "llm_data = []\n",
    "for _, row in df_introduction.iterrows():\n",
    "    custom_id = row[\"T_id\"]\n",
    "    title = row[\"title\"]\n",
    "    abstract = row[\"abstract\"]\n",
    "    content = row[\"introduction\"]\n",
    "    llm_input = prompt.format(title, abstract, content)\n",
    "    llm_data.append({\n",
    "        \"custom_id\": custom_id,\n",
    "        \"llm_input\": llm_input\n",
    "    })\n",
    "len(llm_data)\n",
    "\n",
    "\n",
    "def data_to_jsonl_volcengine(datas:list, save_file_path=\".tmp.jsonl\"):\n",
    "    import json\n",
    "    # 火山引擎要求的jsonl格式\n",
    "    with open(save_file_path, \"w\", encoding=\"utf-8\") as f:\n",
    "        for _data in datas:\n",
    "            custom_id = _data[\"custom_id\"]\n",
    "            user_input = _data[\"llm_input\"]\n",
    "            _input = {\n",
    "                \"custom_id\": custom_id,\n",
    "                \"body\": {\n",
    "                    \"messages\": [\n",
    "                        {\"role\": \"system\",\"content\": \"\"},\n",
    "                        {\"role\": \"user\",\"content\": user_input}\n",
    "                    ],\n",
    "                    \"max_tokens\": 10000,\n",
    "                    \"temperature\": 0\n",
    "                },\n",
    "            }\n",
    "            f.write(json.dumps(_input, ensure_ascii=False) + \"\\n\")\n",
    "    return\n",
    "\n",
    "data_to_jsonl_volcengine(llm_data, \"h_introduction_input_err.jsonl\")"
   ]
  },
  {
   "cell_type": "code",
   "execution_count": null,
   "metadata": {},
   "outputs": [],
   "source": [
    "introduction_datas = []\n",
    "import json\n",
    "import pandas as pd\n",
    "err_data = {}\n",
    "with open(\"h_introduction_output_err.jsonl\", \"r\") as r:\n",
    "    for line in r:\n",
    "        _data = json.loads(line)\n",
    "        custom_id = _data[\"custom_id\"]\n",
    "        response = _data[\"response\"][\"body\"][\"choices\"][0][\"message\"][\"content\"]\n",
    "        response = response.replace(\"`\",\"\").replace(\"json\",\"\").replace(\"\\n\",\"\")\n",
    "        intro_data = {\"custom_id\":custom_id}\n",
    "        try:\n",
    "            resp_data = eval(response)\n",
    "            for k, v in resp_data.items():\n",
    "                intro_data[k] = v\n",
    "            introduction_datas.append(intro_data)\n",
    "        except:\n",
    "            err_data[custom_id] = response\n",
    "            continue\n",
    "        # break\n",
    "len(err_data)"
   ]
  },
  {
   "cell_type": "markdown",
   "metadata": {},
   "source": [
    "# 解析批量推理结果"
   ]
  },
  {
   "cell_type": "code",
   "execution_count": null,
   "metadata": {},
   "outputs": [],
   "source": [
    "import pandas as pd\n",
    "import os, json\n",
    "\n",
    "df_all = pd.read_csv(\".data/available_TA_all.csv\")\n",
    "df_all = df_all[df_all[\"relevant\"]==2]\n",
    "df_0 = pd.read_csv(\"introduce_split.csv\")\n"
   ]
  },
  {
   "cell_type": "code",
   "execution_count": 57,
   "metadata": {},
   "outputs": [
    {
     "data": {
      "text/html": [
       "<div>\n",
       "<style scoped>\n",
       "    .dataframe tbody tr th:only-of-type {\n",
       "        vertical-align: middle;\n",
       "    }\n",
       "\n",
       "    .dataframe tbody tr th {\n",
       "        vertical-align: top;\n",
       "    }\n",
       "\n",
       "    .dataframe thead th {\n",
       "        text-align: right;\n",
       "    }\n",
       "</style>\n",
       "<table border=\"1\" class=\"dataframe\">\n",
       "  <thead>\n",
       "    <tr style=\"text-align: right;\">\n",
       "      <th></th>\n",
       "      <th>T_id</th>\n",
       "      <th>title</th>\n",
       "    </tr>\n",
       "  </thead>\n",
       "  <tbody>\n",
       "    <tr>\n",
       "      <th>0</th>\n",
       "      <td>TA000000</td>\n",
       "      <td>Yeast Particle Encapsulation of Scaffolded Ter...</td>\n",
       "    </tr>\n",
       "    <tr>\n",
       "      <th>1</th>\n",
       "      <td>TA000001</td>\n",
       "      <td>Volatile Terpenes and Terpenoids from Workers ...</td>\n",
       "    </tr>\n",
       "    <tr>\n",
       "      <th>2</th>\n",
       "      <td>TA000002</td>\n",
       "      <td>Yeast Particles Hyper-Loaded with Terpenes for...</td>\n",
       "    </tr>\n",
       "    <tr>\n",
       "      <th>3</th>\n",
       "      <td>TA000003</td>\n",
       "      <td>Olfactory Impact of Terpene Alcohol on Terpene...</td>\n",
       "    </tr>\n",
       "    <tr>\n",
       "      <th>4</th>\n",
       "      <td>TA000004</td>\n",
       "      <td>Using volatile organic compounds to enhance at...</td>\n",
       "    </tr>\n",
       "    <tr>\n",
       "      <th>...</th>\n",
       "      <td>...</td>\n",
       "      <td>...</td>\n",
       "    </tr>\n",
       "    <tr>\n",
       "      <th>34700</th>\n",
       "      <td>TA050916</td>\n",
       "      <td>Combined acetyl-11-keto-β-boswellic acid and r...</td>\n",
       "    </tr>\n",
       "    <tr>\n",
       "      <th>34701</th>\n",
       "      <td>TA050917</td>\n",
       "      <td>Monotropein promotes angiogenesis and inhibits...</td>\n",
       "    </tr>\n",
       "    <tr>\n",
       "      <th>34702</th>\n",
       "      <td>TA050918</td>\n",
       "      <td>Ginsenoside Rb1 protects against ischemia/repe...</td>\n",
       "    </tr>\n",
       "    <tr>\n",
       "      <th>34703</th>\n",
       "      <td>TA050919</td>\n",
       "      <td>Ginsenoside Rg1 protects against neuronal dege...</td>\n",
       "    </tr>\n",
       "    <tr>\n",
       "      <th>34704</th>\n",
       "      <td>TA050920</td>\n",
       "      <td>Micheliolide suppresses LPS-induced neuroinfla...</td>\n",
       "    </tr>\n",
       "  </tbody>\n",
       "</table>\n",
       "<p>34070 rows × 2 columns</p>\n",
       "</div>"
      ],
      "text/plain": [
       "           T_id                                              title\n",
       "0      TA000000  Yeast Particle Encapsulation of Scaffolded Ter...\n",
       "1      TA000001  Volatile Terpenes and Terpenoids from Workers ...\n",
       "2      TA000002  Yeast Particles Hyper-Loaded with Terpenes for...\n",
       "3      TA000003  Olfactory Impact of Terpene Alcohol on Terpene...\n",
       "4      TA000004  Using volatile organic compounds to enhance at...\n",
       "...         ...                                                ...\n",
       "34700  TA050916  Combined acetyl-11-keto-β-boswellic acid and r...\n",
       "34701  TA050917  Monotropein promotes angiogenesis and inhibits...\n",
       "34702  TA050918  Ginsenoside Rb1 protects against ischemia/repe...\n",
       "34703  TA050919  Ginsenoside Rg1 protects against neuronal dege...\n",
       "34704  TA050920  Micheliolide suppresses LPS-induced neuroinfla...\n",
       "\n",
       "[34070 rows x 2 columns]"
      ]
     },
     "execution_count": 57,
     "metadata": {},
     "output_type": "execute_result"
    }
   ],
   "source": [
    "df_intro = df_all.copy()[[\"T_id\", \"title\"]]\n",
    "df_intro"
   ]
  },
  {
   "cell_type": "code",
   "execution_count": 63,
   "metadata": {},
   "outputs": [],
   "source": [
    "for _, row in df_0[~df_0[\"topic\"].isna()].iterrows():\n",
    "    T_id = row[\"custom_id\"]\n",
    "    df_intro.loc[df_intro[\"T_id\"] == T_id, \"topic\"] = row[\"topic\"]\n"
   ]
  },
  {
   "cell_type": "code",
   "execution_count": null,
   "metadata": {},
   "outputs": [
    {
     "name": "stderr",
     "output_type": "stream",
     "text": [
      "/tmp/ipykernel_297591/1964940145.py:1: SettingWithCopyWarning: \n",
      "A value is trying to be set on a copy of a slice from a DataFrame.\n",
      "Try using .loc[row_indexer,col_indexer] = value instead\n",
      "\n",
      "See the caveats in the documentation: https://pandas.pydata.org/pandas-docs/stable/user_guide/indexing.html#returning-a-view-versus-a-copy\n",
      "  df_intro[df_intro[\"topic\"].isna()][\"topic\"] = df_intro[df_intro[\"topic\"].isna()][\"title\"]\n"
     ]
    }
   ],
   "source": [
    "df_intro.loc = df_intro[df_intro[\"topic\"].isna()][\"title\"]"
   ]
  },
  {
   "cell_type": "code",
   "execution_count": 68,
   "metadata": {},
   "outputs": [],
   "source": [
    "df_intro.loc[df_intro[\"topic\"].isna(), \"topic\"] = df_intro[\"title\"]\n"
   ]
  },
  {
   "cell_type": "code",
   "execution_count": 72,
   "metadata": {},
   "outputs": [],
   "source": [
    "df_intro.to_csv(\"df_introduction.csv\", index=False)"
   ]
  }
 ],
 "metadata": {
  "kernelspec": {
   "display_name": "Python 3",
   "language": "python",
   "name": "python3"
  },
  "language_info": {
   "codemirror_mode": {
    "name": "ipython",
    "version": 3
   },
   "file_extension": ".py",
   "mimetype": "text/x-python",
   "name": "python",
   "nbconvert_exporter": "python",
   "pygments_lexer": "ipython3",
   "version": "3.11.11"
  }
 },
 "nbformat": 4,
 "nbformat_minor": 2
}
