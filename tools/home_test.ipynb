{
 "cells": [
  {
   "cell_type": "code",
   "execution_count": null,
   "metadata": {},
   "outputs": [],
   "source": [
    "import pandas as pd\n",
    "import numpy as np\n",
    "from volcenginesdkarkruntime import Ark\n",
    "\n",
    "def get_embedding(question, dim=512):\n",
    "    client = Ark(\n",
    "        base_url=\"https://ark.cn-beijing.volces.com/api/v3\",\n",
    "        api_key=\"44ea595c-61c3-4af1-87fb-50464b5cc95a\",\n",
    "    )\n",
    "    resp = client.embeddings.create(\n",
    "        model=\"ep-20250418144025-nmvsv\",\n",
    "        input=question\n",
    "    )\n",
    "    return resp.data[0].embedding\n",
    "\n",
    "def sliced_norm_l2(vec, dim=2048):\n",
    "    import numpy as np\n",
    "    vec = np.array(vec[:dim], dtype=np.float32)\n",
    "    norm = np.linalg.norm(vec).astype(np.float32)\n",
    "    return vec / norm\n",
    "\n",
    "def retrival_top_k(__df__, query_vector, k=30):\n",
    "    import numpy as np\n",
    "    import pandas as pd\n",
    "    \"\"\"\n",
    "    input: datafram with \"id_\", \"embedding\"\n",
    "    output: DataFrame with \"id_\", \"dot_product(score)\"\n",
    "    \"\"\"\n",
    "    embeddings_matrix = np.vstack(__df__['embedding'].values)\n",
    "    dot_products = np.dot(embeddings_matrix, query_vector)\n",
    "    top_k_indices = np.argpartition(dot_products, -k)[-k:]\n",
    "    top_k_indices = top_k_indices[np.argsort(-dot_products[top_k_indices])]\n",
    "    result_df = __df__.iloc[top_k_indices].copy()[[\"id_\"]]\n",
    "    result_df['dot_product'] = dot_products[top_k_indices]\n",
    "    return result_df\n",
    "\n",
    "\n",
    "df = pd.read_parquet(\"data_TA/A_abstract_emb.parquet\")\n",
    "df_paper = pd.read_csv(\"all_TA_meta.csv\")\n",
    "df['embedding'] = df['embedding'].apply(sliced_norm_l2)\n",
    "\n",
    "\n",
    "query_vector = sliced_norm_l2(get_embedding(\"紫杉醇的靶点是什么？\"))\n",
    "retrival_df = retrival_top_k(df, query_vector, k=500)\n",
    "for _, row in retrival_df[-10:].iterrows():\n",
    "    paper_id = row[\"id_\"]\n",
    "    title = df_paper[df_paper[\"T_id\"]==paper_id][\"title\"].values[0]\n",
    "    abstract = df_paper[df_paper[\"T_id\"]==paper_id][\"abstract\"].values[0]\n",
    "    print(title)\n",
    "    print(abstract)\n",
    "    print()\n",
    "\n"
   ]
  }
 ],
 "metadata": {
  "kernelspec": {
   "display_name": "teroseek",
   "language": "python",
   "name": "python3"
  },
  "language_info": {
   "codemirror_mode": {
    "name": "ipython",
    "version": 3
   },
   "file_extension": ".py",
   "mimetype": "text/x-python",
   "name": "python",
   "nbconvert_exporter": "python",
   "pygments_lexer": "ipython3",
   "version": "3.11.11"
  }
 },
 "nbformat": 4,
 "nbformat_minor": 2
}
