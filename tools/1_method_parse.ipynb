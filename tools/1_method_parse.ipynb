{
 "cells": [
  {
   "cell_type": "code",
   "execution_count": 1,
   "metadata": {},
   "outputs": [],
   "source": [
    "import pandas as pd\n",
    "import os, json\n",
    "df_all = pd.read_csv(\".data/available_TA_all.csv\")\n",
    "df_all = df_all[df_all[\"relevant\"]==2]\n",
    "df_topic = pd.read_csv(\"df_introduction.csv\")\n"
   ]
  },
  {
   "cell_type": "code",
   "execution_count": 4,
   "metadata": {},
   "outputs": [
    {
     "name": "stdout",
     "output_type": "stream",
     "text": [
      "34070\n",
      "33651\n"
     ]
    }
   ],
   "source": [
    "print(len(df_all))\n",
    "print(len(df_all[~df_all[\"methods\"].isna()]))"
   ]
  },
  {
   "cell_type": "code",
   "execution_count": 13,
   "metadata": {},
   "outputs": [
    {
     "data": {
      "text/html": [
       "<div>\n",
       "<style scoped>\n",
       "    .dataframe tbody tr th:only-of-type {\n",
       "        vertical-align: middle;\n",
       "    }\n",
       "\n",
       "    .dataframe tbody tr th {\n",
       "        vertical-align: top;\n",
       "    }\n",
       "\n",
       "    .dataframe thead th {\n",
       "        text-align: right;\n",
       "    }\n",
       "</style>\n",
       "<table border=\"1\" class=\"dataframe\">\n",
       "  <thead>\n",
       "    <tr style=\"text-align: right;\">\n",
       "      <th></th>\n",
       "      <th>T_id</th>\n",
       "      <th>doi</th>\n",
       "      <th>title</th>\n",
       "      <th>abstract</th>\n",
       "      <th>authors</th>\n",
       "      <th>year</th>\n",
       "      <th>publisher</th>\n",
       "      <th>relevant</th>\n",
       "      <th>wos</th>\n",
       "      <th>scopus</th>\n",
       "      <th>pubmed</th>\n",
       "      <th>introduction</th>\n",
       "      <th>methods</th>\n",
       "      <th>results</th>\n",
       "      <th>discuession</th>\n",
       "      <th>conclustion</th>\n",
       "    </tr>\n",
       "  </thead>\n",
       "  <tbody>\n",
       "    <tr>\n",
       "      <th>12640</th>\n",
       "      <td>TA022753</td>\n",
       "      <td>10.1016/j.fitote.2012.03.024</td>\n",
       "      <td>Kujigamberol, a new dinorlabdane diterpenoid i...</td>\n",
       "      <td>A new compound, 15,20-dinor-5,7,9-labdatriene-...</td>\n",
       "      <td>Kimura, Ken-ichi; Minamikawa, Yuki; Ogasawara,...</td>\n",
       "      <td>2012</td>\n",
       "      <td>FITOTERAPIA</td>\n",
       "      <td>2</td>\n",
       "      <td>True</td>\n",
       "      <td>False</td>\n",
       "      <td>False</td>\n",
       "      <td>['1. introduction Amber is a fossilized tree r...</td>\n",
       "      <td>['2. experimental ', '2.1. chemicals and strai...</td>\n",
       "      <td>To investigate the toxicity of M. alternifolia...</td>\n",
       "      <td>['3. results and discussion The major bioactiv...</td>\n",
       "      <td>NaN</td>\n",
       "    </tr>\n",
       "    <tr>\n",
       "      <th>31181</th>\n",
       "      <td>TA047380</td>\n",
       "      <td>10.1111/jcmm.15484</td>\n",
       "      <td>Nomilin targets the Keap1-Nrf2 signalling and ...</td>\n",
       "      <td>Osteoarthritis (OA) is a long-term and inflamm...</td>\n",
       "      <td>Xue, Xing-He, Xue, Ji-Xin, Hu, Wei, Shi, Fang-...</td>\n",
       "      <td>2020</td>\n",
       "      <td>Journal of cellular and molecular medicine</td>\n",
       "      <td>2</td>\n",
       "      <td>False</td>\n",
       "      <td>False</td>\n",
       "      <td>True</td>\n",
       "      <td>Osteoarthritis (OA) is a prevalent senile diso...</td>\n",
       "      <td>Nomilin (purity &gt; 98%) was purchased from Shan...</td>\n",
       "      <td>Figure 1A showed the chemical formula of NOM. ...</td>\n",
       "      <td>Osteoarthritis is one of the most widespread a...</td>\n",
       "      <td>NaN</td>\n",
       "    </tr>\n",
       "  </tbody>\n",
       "</table>\n",
       "</div>"
      ],
      "text/plain": [
       "           T_id                           doi  \\\n",
       "12640  TA022753  10.1016/j.fitote.2012.03.024   \n",
       "31181  TA047380            10.1111/jcmm.15484   \n",
       "\n",
       "                                                   title  \\\n",
       "12640  Kujigamberol, a new dinorlabdane diterpenoid i...   \n",
       "31181  Nomilin targets the Keap1-Nrf2 signalling and ...   \n",
       "\n",
       "                                                abstract  \\\n",
       "12640  A new compound, 15,20-dinor-5,7,9-labdatriene-...   \n",
       "31181  Osteoarthritis (OA) is a long-term and inflamm...   \n",
       "\n",
       "                                                 authors  year  \\\n",
       "12640  Kimura, Ken-ichi; Minamikawa, Yuki; Ogasawara,...  2012   \n",
       "31181  Xue, Xing-He, Xue, Ji-Xin, Hu, Wei, Shi, Fang-...  2020   \n",
       "\n",
       "                                        publisher  relevant    wos  scopus  \\\n",
       "12640                                 FITOTERAPIA         2   True   False   \n",
       "31181  Journal of cellular and molecular medicine         2  False   False   \n",
       "\n",
       "       pubmed                                       introduction  \\\n",
       "12640   False  ['1. introduction Amber is a fossilized tree r...   \n",
       "31181    True  Osteoarthritis (OA) is a prevalent senile diso...   \n",
       "\n",
       "                                                 methods  \\\n",
       "12640  ['2. experimental ', '2.1. chemicals and strai...   \n",
       "31181  Nomilin (purity > 98%) was purchased from Shan...   \n",
       "\n",
       "                                                 results  \\\n",
       "12640  To investigate the toxicity of M. alternifolia...   \n",
       "31181  Figure 1A showed the chemical formula of NOM. ...   \n",
       "\n",
       "                                             discuession conclustion  \n",
       "12640  ['3. results and discussion The major bioactiv...         NaN  \n",
       "31181  Osteoarthritis is one of the most widespread a...         NaN  "
      ]
     },
     "execution_count": 13,
     "metadata": {},
     "output_type": "execute_result"
    }
   ],
   "source": [
    "rows = df_all[~df_all[\"methods\"].isna()].sample(2)\n",
    "rows"
   ]
  },
  {
   "cell_type": "code",
   "execution_count": 20,
   "metadata": {},
   "outputs": [
    {
     "data": {
      "text/plain": [
       "33651"
      ]
     },
     "execution_count": 20,
     "metadata": {},
     "output_type": "execute_result"
    }
   ],
   "source": [
    "\n",
    "prompt = \"\"\"\n",
    "The topic is {}\n",
    "=================\n",
    "Method:{}\n",
    "Based on the above information:\n",
    " - First, summarize the methods and techniques used in the article, without any abbreviations or shorthand.\n",
    " - Then Divide the text reasonably, each paragraph should summarize which tasks the methods used in the text were applied to, what operations were performed on those substances, followed by the original text. Do not omit any information, but you can clean the text.\n",
    " - It is recommended to merge related paragraphs. Each output paragraph should be no less than 500 words.\n",
    " - No output in any format other than JSON is required. Translate it into English as a prompt.\n",
    "EXAMPLE JSON OUTPUT:\n",
    "{{\n",
    "    \"0001\": {{\n",
    "        \"technology\":[],\n",
    "        \"summery\":\"\",\n",
    "        \"original_text\":\"\"，\n",
    "    }},\n",
    "    \"0002\": {{\n",
    "        \"technology\":[],\n",
    "        \"summery\":\"\",\n",
    "        \"original+text\":\"\",\n",
    "    }},\n",
    "}}\n",
    "The response is:\n",
    "\"\"\"\n",
    "llm_data = []\n",
    "for _, row in df_all[~df_all[\"methods\"].isna()].iterrows():\n",
    "    T_id = row[\"T_id\"]\n",
    "    topic = df_topic[df_topic[\"T_id\"]==T_id][\"topic\"].values[0]\n",
    "    content = row[\"methods\"]\n",
    "    llm_input = prompt.format(topic, content)\n",
    "    llm_data.append({\n",
    "        \"custom_id\": T_id,\n",
    "        \"llm_input\": llm_input\n",
    "    })\n",
    "len(llm_data)"
   ]
  },
  {
   "cell_type": "code",
   "execution_count": 21,
   "metadata": {},
   "outputs": [],
   "source": [
    "def data_to_jsonl_volcengine(datas:list, save_file_path=\".tmp.jsonl\"):\n",
    "    import json\n",
    "    # 火山引擎要求的jsonl格式\n",
    "    with open(save_file_path, \"w\", encoding=\"utf-8\") as f:\n",
    "        for _data in datas:\n",
    "            custom_id = _data[\"custom_id\"]\n",
    "            user_input = _data[\"llm_input\"]\n",
    "            _input = {\n",
    "                \"custom_id\": custom_id,\n",
    "                \"body\": {\n",
    "                    \"messages\": [\n",
    "                        {\"role\": \"system\",\"content\": \"\"},\n",
    "                        {\"role\": \"user\",\"content\": user_input}\n",
    "                    ],\n",
    "                    \"max_tokens\": 10000,\n",
    "                    \"temperature\": 0\n",
    "                },\n",
    "            }\n",
    "            f.write(json.dumps(_input, ensure_ascii=False) + \"\\n\")\n",
    "    return\n",
    "\n",
    "data_to_jsonl_volcengine(llm_data, \"h_method_input.jsonl\")"
   ]
  },
  {
   "cell_type": "code",
   "execution_count": 22,
   "metadata": {},
   "outputs": [],
   "source": [
    "input_data = []\n",
    "import json\n",
    "with open(\"h_method_input.jsonl\", \"r\") as r:\n",
    "    for line in r:\n",
    "        input_data.append(json.loads(line))"
   ]
  },
  {
   "cell_type": "code",
   "execution_count": 23,
   "metadata": {},
   "outputs": [
    {
     "data": {
      "text/plain": [
       "{'custom_id': 'TA001835',\n",
       " 'body': {'messages': [{'role': 'system', 'content': ''},\n",
       "   {'role': 'user',\n",
       "    'content': '\\nThe topic is Fractioning of orange (Citrus sinensis L.) essential oil using vacuum fractional distillation to concentrate minor compounds of industrial interest.\\n=================\\nMethod:[\\'**2. materials and methods** \\', \\'2.1. obtainment of the orange essential oil Orange (*Citrus sinensis* L.) raw essential oil, harvested in 2015, was provided by company EcoCitrus, located in the city of Montenegro, Rio Grande do Sul, Brazil (the orchard of oranges from which the oil was obtained was also located at this location). The oil was obtained by cold pressing of the orange peels, being after stored in cold chamber (1 to 6 °C). The raw oil, before the fractionation process, was analyzed by GC/MS and HPLC to characterize it chemically. \\', \\'2.2. distillation system Accepted Manuscript The distillation system consisted in a glass column, packed with Raschig rings made of glass, with 5 mm height and 8 mm of diameter. (Figure 1) The column was composed by three stages; each stage has 8 cm of height. In the base of the column there was a flask, made of glass, with capacity of 250 mL, where the raw essential oil was added. The heating was provided by electrical resistances wrapped around the distillation flask (heating mantle with a maximum power of 150 W). In each stage of the column were placed solenoid valves, to collect the samples. The collected fractions were condensed and stored in containers kept in cooling (0 to 5 °C). The system could be operated in pressures lower than of atmospheric pressure, this was achieved using a vacuum pump, which was capable to low the column pressure to 10 kPa. In the top of the column, a vacuum gauge monitored the pressure of the system. A computer accompanied by a PLC (programmable logic controller) Altus FBs-24 MA (14 entrances and 10 digital exits) did the process monitoring, as well as the control of the equipment functions. \\', \\'2.3. fractionating process It was used 120 mL of raw essential oil in the distillation tests. Initially, samples were taken in function of process time using the glass column, but collecting only the top product. With a fixed pressure of 10 kPa (limit of the vacuum pump) and a heat rate in the bottom sufficient to avoid the inundation of the column, fractions of distillate in the top and the bottom product were collected in intervals of 15 minutes. 5 mL were sampled in the top product in each time, discarding the rest of the distillate. In the bottom of the column, only 1 mL was sampled in each time to prevent the reduction of the volume in the flask. The obtained samples were sent to GC/MS analysis. (Figure 2) After, the raw essential oil was fractionated by stages, with the same pressure (10 kPa) and heat rate used in the previous test. The solenoid valves were opened, one at a time, starting in the top (third stage), followed by the second stage and finally the first stage, collecting distillate in each height of the packing, independently of the time. With the collection of approximately 25 mL in each stage and the lowest volume possible in the bottom, the test was completed and the fractions sent to GC/MS analysis. Both fractionating processes (in function of process time and by stages) were performed in quintuplicate and the arithmetic mean of the replicates was calculated for result analysis. \\', \\'2.4. degradation test for the raw essential oil To evaluate a possible degradation of the compounds of the essential oil, the raw oil was heated until its boiling temperature at room pressure (approximately 160 °C), and kept boiling during 15 minutes. After, the system was turned off and the oil was exposed to air, sunlight and room temperature for more 24 hours, to allow the oil to be oxidized by temperature, sunlight and air. The exposed oil was sent to GC/MS analysis. \\', \\'2.5. gc/ms and hplc analysis Accepted ManuscriptThe GC/MS analysis were performed in a gas chromatograph Hewlett Packard, 6890 series model, equipped with a HP-Chemstation data processor; coupled to a selective mass detector, from Hewlett Packard 6890/MSD5973 model, equipped with HP Chemstation software and Wiley 275 library. A HP- Innowax capillary fused silica column (30 m x 250 µm with 0.5 µm of film thickness) was used. The temperature program used was the same used in the GC: interface at 280 °C, split ratio 1:100; using helium as carrier gas at 56 kPa. The flux ratio was 1,0 ,L/min; ionization energy of 70 eV; the injected volume was 1 µL of sample, diluted in hexane (1:10). The GC analysis were performed in the gas chromatograph previously described, with column temperature of 40 °C (8 minutes), to a temperature of 180 °C at 3 °C/min. To the temperature increase from 180 °C to 230 °C the rate was 20 °C/min, after being kept for 20 minutes at 230 °C. The injector temperature was 250 °C; split ratio 1:50, detector by flame ionization at 250 °C, using hydrogen as carrier gas at 34 kPa. To quantify the components, as used 1-octanol as an internal standard with concentration of 30.22 g/L (25 µL), mixed with hexane (75 µL) and with the analyzed sample (10 µL). The injected volume in the GC was 1 µL. To analyze the phenolic compounds, which give color to the oil, it was necessary to perform a liquidliquid extraction with 3 mL of a mixture of methanol and water (9:1) for 4 minutes, in a vortex mixer. After, the mixture was centrifuged at 4000 rpm to separate the organic phase, which was filtered in a nylon membrane with 0.45 µm of pore diameter. HPLC was used, using a Hewlett Packard equipment, 1100 model, with a Lichrospher RP18 (5 µm) column, equipped with an UV detector at 210 nm and a quaternary pump system. The reverse-phase analysis was composed of: solvent A – Mili-Q water with 1 % v/v of phosphoric acid and solvent B – acetonitrile. The pumping system in the mobile phase was gradient, with 90% of A solvent from 0 to 5 minutes, 60% from 5 to 40 minutes and 90% from 40 to 50 minutes. The standard flux was kept in 0.5 mL/min. The phenolic compounds were detected in accordance with their elution order and by comparison between their retention times with the retention times of their pure standards. Quantification was performed by the external standard method, correlating the area of the component peak to the calibration curve constructed with each measured standard (gallic acid, catechin, chlorogenic acid, caffeic acid, epicatechin, rutin, ferulic acid, naringin, vitexin, hesperidin, myricetin, resveratrol, quercetin, apigenin and kaempferol). \\']nan\\nBased on the above information:\\n - First, summarize the methods and techniques used in the article, without any abbreviations or shorthand.\\n - Then Divide the text reasonably, each paragraph should summarize which tasks the methods used in the text were applied to, what operations were performed on those substances, followed by the original text. Do not omit any information, but you can clean the text.\\n - It is recommended to merge related paragraphs. Each output paragraph should be no less than 500 words.\\n - No output in any format other than JSON is required. Translate it into English as a prompt.\\nEXAMPLE JSON OUTPUT:\\n{\\n    \"0001\": {\\n        \"technology\":[],\\n        \"summery\":\"\",\\n        \"original_text\":\"\"，\\n    },\\n    \"0002\": {\\n        \"technology\":[],\\n        \"summery\":\"\",\\n        \"original+text\":\"\",\\n    },\\n}\\nThe response is:\\n'}],\n",
       "  'max_tokens': 10000,\n",
       "  'temperature': 0}}"
      ]
     },
     "execution_count": 23,
     "metadata": {},
     "output_type": "execute_result"
    }
   ],
   "source": [
    "input_data[1523]"
   ]
  }
 ],
 "metadata": {
  "kernelspec": {
   "display_name": "Python 3",
   "language": "python",
   "name": "python3"
  },
  "language_info": {
   "codemirror_mode": {
    "name": "ipython",
    "version": 3
   },
   "file_extension": ".py",
   "mimetype": "text/x-python",
   "name": "python",
   "nbconvert_exporter": "python",
   "pygments_lexer": "ipython3",
   "version": "3.11.11"
  }
 },
 "nbformat": 4,
 "nbformat_minor": 2
}
